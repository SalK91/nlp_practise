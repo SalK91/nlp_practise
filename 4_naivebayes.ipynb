{
 "cells": [
  {
   "cell_type": "code",
   "execution_count": 12,
   "metadata": {},
   "outputs": [],
   "source": [
    "from sklearn.datasets import fetch_20newsgroups\n",
    "from sklearn.feature_extraction.text import TfidfVectorizer\n",
    "from sklearn.naive_bayes import MultinomialNB\n",
    "from sklearn.model_selection import train_test_split\n",
    "from sklearn.metrics import accuracy_score, classification_report\n",
    "from sklearn.feature_extraction.text import CountVectorizer\n",
    "\n",
    "\n"
   ]
  },
  {
   "cell_type": "code",
   "execution_count": 3,
   "metadata": {},
   "outputs": [],
   "source": [
    "\n",
    "# Load the 20 Newsgroups dataset\n",
    "newsgroups = fetch_20newsgroups(subset='all', remove=('headers', 'footers', 'quotes'))\n"
   ]
  },
  {
   "cell_type": "code",
   "execution_count": 7,
   "metadata": {},
   "outputs": [
    {
     "name": "stdout",
     "output_type": "stream",
     "text": [
      "the owners are whining about baseball not being popular among a\n",
      "large enough portion of the population, and have suggested various\n",
      "\"remedies\", such as shortening the game or trying to convince us that\n",
      "\"smoke'embake'emdominatebysheerintimidation\" is an accurate description\n",
      "of what is, essentially, a laid-back game.\n",
      "\n",
      "forget those lame ideas.  here is my new and exciting two-point plan to\n",
      "generate interest in baseball among the masses.\n",
      "\n",
      "point one: sex.\n",
      "point two: violence.\n",
      "\n",
      "let's face it, sex and violence are the only things that sell in\n",
      "america.  here's how we can implement them in the game:\n",
      "\n",
      "sex: cheerleaders, cheerleaders, and more cheerleaders.  dancing on top\n",
      "     of the dugouts.  bringing hot dogs to the umps during the seventh\n",
      "     inning stretch.  running up and down the stands.  (the south bend\n",
      "     white sox actually do this).\n",
      "\n",
      "violence: baseball players are such utter wuss boys.  the pitcher beans\n",
      "     the batter, and both benches empty in what is called a \"bench-clearing\n",
      "     brawl\".  EVERYBODY JUST STANDS THERE AND LOOKS AT EACH OTHER. stand,\n",
      "     stand, stand.  look, look, look.  ho, hum.  then, the bullpens\n",
      "     come running in.  when they reach the \"fight\", they just stand\n",
      "     there, too.\n",
      "\n",
      "     anybody coming off the bench who does not throw at least one punch\n",
      "     should be suspended and fined.  further, the bullpens should fight\n",
      "     it out in the outfield, so as not to waste time and energy running\n",
      "     to the infield.\n",
      "\n",
      "football: sex, violence.\n",
      "basketball: sex, violence.\n",
      "hockey: violence.\n",
      "baseball: \"da pastime of da nayshun!\" - yawn.\n",
      "9\n"
     ]
    }
   ],
   "source": [
    "\n",
    "# Split the data into training and testing sets\n",
    "X_train, X_test, y_train, y_test = train_test_split(newsgroups.data, newsgroups.target, test_size=0.2, random_state=42)\n",
    "\n",
    "print(X_train[4])\n",
    "print(y_train[4])"
   ]
  },
  {
   "cell_type": "code",
   "execution_count": 14,
   "metadata": {},
   "outputs": [
    {
     "data": {
      "text/plain": [
       "<1x5000 sparse matrix of type '<class 'numpy.int64'>'\n",
       "\twith 575 stored elements in Compressed Sparse Row format>"
      ]
     },
     "execution_count": 14,
     "metadata": {},
     "output_type": "execute_result"
    }
   ],
   "source": [
    "# Create a CountVectorizer to convert text into BoW representation\n",
    "vectorizer = CountVectorizer(max_features=5000)  # You can adjust the number of features\n",
    "\n",
    "# Fit and transform the training data\n",
    "X_train_bow = vectorizer.fit_transform(X_train)\n",
    "\n",
    "# Transform the test data using the same vectorizer\n",
    "X_test_bow = vectorizer.transform(X_test)\n",
    "X_test_bow[4]"
   ]
  },
  {
   "cell_type": "code",
   "execution_count": 16,
   "metadata": {},
   "outputs": [
    {
     "name": "stdout",
     "output_type": "stream",
     "text": [
      "Accuracy: 0.62\n",
      "                          precision    recall  f1-score   support\n",
      "\n",
      "             alt.atheism       0.41      0.62      0.49       151\n",
      "           comp.graphics       0.52      0.59      0.55       202\n",
      " comp.os.ms-windows.misc       0.78      0.04      0.07       195\n",
      "comp.sys.ibm.pc.hardware       0.43      0.71      0.53       183\n",
      "   comp.sys.mac.hardware       0.61      0.65      0.63       205\n",
      "          comp.windows.x       0.71      0.71      0.71       215\n",
      "            misc.forsale       0.82      0.64      0.72       193\n",
      "               rec.autos       0.64      0.68      0.66       196\n",
      "         rec.motorcycles       0.38      0.71      0.50       168\n",
      "      rec.sport.baseball       0.73      0.76      0.74       211\n",
      "        rec.sport.hockey       0.91      0.69      0.79       198\n",
      "               sci.crypt       0.84      0.67      0.75       201\n",
      "         sci.electronics       0.60      0.61      0.61       202\n",
      "                 sci.med       0.79      0.72      0.75       194\n",
      "               sci.space       0.80      0.61      0.69       189\n",
      "  soc.religion.christian       0.66      0.75      0.70       202\n",
      "      talk.politics.guns       0.63      0.70      0.66       188\n",
      "   talk.politics.mideast       0.81      0.65      0.72       182\n",
      "      talk.politics.misc       0.49      0.52      0.50       159\n",
      "      talk.religion.misc       0.39      0.24      0.30       136\n",
      "\n",
      "                accuracy                           0.62      3770\n",
      "               macro avg       0.65      0.61      0.60      3770\n",
      "            weighted avg       0.66      0.62      0.61      3770\n",
      "\n"
     ]
    }
   ],
   "source": [
    "\n",
    "# Create a Naive Bayes classifier\n",
    "clf = MultinomialNB()\n",
    "\n",
    "# Train the classifier on the TF-IDF transformed training data\n",
    "clf.fit(X_train_bow, y_train)\n",
    "\n",
    "# Make predictions on the test data\n",
    "y_pred = clf.predict(X_test_bow)\n",
    "\n",
    "# Calculate accuracy and other classification metrics\n",
    "accuracy = accuracy_score(y_test, y_pred)\n",
    "classification_report_str = classification_report(y_test, y_pred, target_names=newsgroups.target_names)\n",
    "\n",
    "# Print the results\n",
    "print(f'Accuracy: {accuracy:.2f}')\n",
    "print(classification_report_str)\n"
   ]
  }
 ],
 "metadata": {
  "kernelspec": {
   "display_name": "base",
   "language": "python",
   "name": "python3"
  },
  "language_info": {
   "codemirror_mode": {
    "name": "ipython",
    "version": 3
   },
   "file_extension": ".py",
   "mimetype": "text/x-python",
   "name": "python",
   "nbconvert_exporter": "python",
   "pygments_lexer": "ipython3",
   "version": "3.10.9"
  }
 },
 "nbformat": 4,
 "nbformat_minor": 2
}
