{
 "cells": [
  {
   "cell_type": "code",
   "execution_count": null,
   "metadata": {},
   "outputs": [],
   "source": []
  },
  {
   "cell_type": "markdown",
   "metadata": {},
   "source": [
    "[Stopwords, stemming, and tokenization](#Stopwords,-stemming,-and-tokenizing)\n",
    "[Tf-idf and document similarity](#Tf-idf-and-document-similarity)\n",
    "[K-means clustering](#K-means-clustering)\n",
    "[Multidimensional scaling](#Multidimensional-scaling)\n",
    "[Visualizing document clusters](#Visualizing-document-clusters)\n",
    "[Hierarchical document clustering](#Hierarchical-document-clustering)\n",
    "[Latent Dirichlet Allocation (LDA)](#Latent-Dirichlet-Allocation)\n"
   ]
  },
  {
   "cell_type": "code",
   "execution_count": null,
   "metadata": {},
   "outputs": [],
   "source": [
    "\n",
    "import numpy as np\n",
    "import pandas as pd\n",
    "import nltk\n",
    "import re\n",
    "import os\n",
    "import codecs\n",
    "from sklearn import feature_extraction\n",
    "import mpld"
   ]
  }
 ],
 "metadata": {
  "kernelspec": {
   "display_name": "base",
   "language": "python",
   "name": "python3"
  },
  "language_info": {
   "name": "python",
   "version": "3.10.9"
  }
 },
 "nbformat": 4,
 "nbformat_minor": 2
}
