{
 "cells": [
  {
   "cell_type": "code",
   "execution_count": 1,
   "metadata": {},
   "outputs": [],
   "source": [
    "import nltk\n",
    "from nltk.corpus import gutenberg\n",
    "from nltk.util import ngrams\n",
    "from nltk.probability import FreqDist, ConditionalFreqDist"
   ]
  },
  {
   "cell_type": "code",
   "execution_count": 3,
   "metadata": {},
   "outputs": [
    {
     "name": "stderr",
     "output_type": "stream",
     "text": [
      "[nltk_data] Downloading package gutenberg to\n",
      "[nltk_data]     C:\\Users\\salmank\\AppData\\Roaming\\nltk_data...\n",
      "[nltk_data]   Unzipping corpora\\gutenberg.zip.\n"
     ]
    },
    {
     "data": {
      "text/plain": [
       "True"
      ]
     },
     "execution_count": 3,
     "metadata": {},
     "output_type": "execute_result"
    }
   ],
   "source": [
    "# Download the Gutenberg corpus if not already downloaded\n",
    "nltk.download('gutenberg')"
   ]
  },
  {
   "cell_type": "code",
   "execution_count": 5,
   "metadata": {},
   "outputs": [
    {
     "data": {
      "text/plain": [
       "['[', 'emma', 'by', 'jane', 'austen', '1816', ']', 'volume', 'i', 'chapter']"
      ]
     },
     "execution_count": 5,
     "metadata": {},
     "output_type": "execute_result"
    }
   ],
   "source": [
    "# Load the Gutenberg corpus\n",
    "gutenberg_corpus = gutenberg.sents()\n",
    "\n",
    "# Flatten the list of sentences into a list of words\n",
    "gutenberg_words = [word.lower() for sentence in gutenberg_corpus for word in sentence]\n",
    "gutenberg_words[:100]"
   ]
  },
  {
   "cell_type": "code",
   "execution_count": 8,
   "metadata": {},
   "outputs": [
    {
     "data": {
      "text/plain": [
       "[('[', 'emma', 'by'),\n",
       " ('emma', 'by', 'jane'),\n",
       " ('by', 'jane', 'austen'),\n",
       " ('jane', 'austen', '1816'),\n",
       " ('austen', '1816', ']'),\n",
       " ('1816', ']', 'volume'),\n",
       " (']', 'volume', 'i'),\n",
       " ('volume', 'i', 'chapter'),\n",
       " ('i', 'chapter', 'i'),\n",
       " ('chapter', 'i', 'emma'),\n",
       " ('i', 'emma', 'woodhouse'),\n",
       " ('emma', 'woodhouse', ','),\n",
       " ('woodhouse', ',', 'handsome'),\n",
       " (',', 'handsome', ','),\n",
       " ('handsome', ',', 'clever'),\n",
       " (',', 'clever', ','),\n",
       " ('clever', ',', 'and'),\n",
       " (',', 'and', 'rich'),\n",
       " ('and', 'rich', ','),\n",
       " ('rich', ',', 'with')]"
      ]
     },
     "execution_count": 8,
     "metadata": {},
     "output_type": "execute_result"
    }
   ],
   "source": [
    "\n",
    "# Define the desired N-gram order\n",
    "n = 3  # Change this value for different N-grams (e.g., 2 for bigrams, 4 for 4-grams)\n",
    "\n",
    "# Add Laplace smoothing constant\n",
    "smoothing_constant = 1\n",
    "\n",
    "# Create N-grams\n",
    "n_grams = list(ngrams(gutenberg_words, n))\n",
    "n_grams[:20]"
   ]
  },
  {
   "cell_type": "code",
   "execution_count": 10,
   "metadata": {},
   "outputs": [
    {
     "data": {
      "text/plain": [
       "0"
      ]
     },
     "execution_count": 10,
     "metadata": {},
     "output_type": "execute_result"
    }
   ],
   "source": [
    "# Create frequency distributions for N-grams\n",
    "freq_dist = FreqDist(n_grams)\n",
    "freq_dist[-1]"
   ]
  },
  {
   "cell_type": "code",
   "execution_count": null,
   "metadata": {},
   "outputs": [],
   "source": [
    "\n",
    "# Create conditional frequency distributions for predicting the next word with Laplace smoothing\n",
    "cfd = ConditionalFreqDist((ngram[:-1], ngram[-1]) for ngram in n_grams)\n",
    "\n",
    "# Function to generate the next word in a sentence with Laplace smoothing\n",
    "def generate_next_word_with_smoothing(prefix):\n",
    "    vocabulary_size = len(set(gutenberg_words))\n",
    "    context_frequency = len(cfd[prefix])\n",
    "    if prefix in cfd:\n",
    "        return cfd[prefix].max()\n",
    "    else:\n",
    "        return None\n",
    "\n",
    "# Generate a sentence with Laplace smoothing\n",
    "sentence = [\"the\", \"project\", \"gutenberg\"]\n",
    "while True:\n",
    "    next_word = generate_next_word_with_smoothing(tuple(sentence[-(n-1):]))\n",
    "    if next_word is None:\n",
    "        break\n",
    "    sentence.append(next_word)\n",
    "\n",
    "# Print the generated sentence\n",
    "print(\"Generated Sentence with Laplace Smoothing:\")\n",
    "print(\" \".join(sentence))\n"
   ]
  },
  {
   "cell_type": "code",
   "execution_count": null,
   "metadata": {},
   "outputs": [],
   "source": []
  }
 ],
 "metadata": {
  "kernelspec": {
   "display_name": "base",
   "language": "python",
   "name": "python3"
  },
  "language_info": {
   "codemirror_mode": {
    "name": "ipython",
    "version": 3
   },
   "file_extension": ".py",
   "mimetype": "text/x-python",
   "name": "python",
   "nbconvert_exporter": "python",
   "pygments_lexer": "ipython3",
   "version": "3.10.9"
  }
 },
 "nbformat": 4,
 "nbformat_minor": 2
}
