{
 "cells": [
  {
   "cell_type": "code",
   "execution_count": 1,
   "metadata": {},
   "outputs": [],
   "source": [
    "from sklearn.feature_extraction.text import TfidfVectorizer\n"
   ]
  },
  {
   "cell_type": "code",
   "execution_count": 3,
   "metadata": {},
   "outputs": [],
   "source": [
    "\n",
    "# Sample documents\n",
    "documents = [\n",
    "    \"This is the first document.\",\n",
    "    \"This document is the second document.\",\n",
    "    \"And this is the third one.\",\n",
    "    \"Is this the first document?\",\n",
    "]\n",
    "\n",
    "# Create a TF-IDF vectorizer\n",
    "tfidf_vectorizer = TfidfVectorizer()\n",
    "\n",
    "# Fit and transform the documents to calculate TF-IDF\n",
    "tfidf_matrix = tfidf_vectorizer.fit_transform(documents)\n",
    "\n",
    "# Get the feature names (words) and the TF-IDF values\n",
    "feature_names = tfidf_vectorizer.get_feature_names_out()\n",
    "tfidf_values = tfidf_matrix.toarray()\n"
   ]
  },
  {
   "cell_type": "code",
   "execution_count": 4,
   "metadata": {},
   "outputs": [
    {
     "name": "stdout",
     "output_type": "stream",
     "text": [
      "Document 1:\n",
      "and: 0.00\n",
      "document: 0.47\n",
      "first: 0.58\n",
      "is: 0.38\n",
      "one: 0.00\n",
      "second: 0.00\n",
      "the: 0.38\n",
      "third: 0.00\n",
      "this: 0.38\n",
      "\n",
      "Document 2:\n",
      "and: 0.00\n",
      "document: 0.69\n",
      "first: 0.00\n",
      "is: 0.28\n",
      "one: 0.00\n",
      "second: 0.54\n",
      "the: 0.28\n",
      "third: 0.00\n",
      "this: 0.28\n",
      "\n",
      "Document 3:\n",
      "and: 0.51\n",
      "document: 0.00\n",
      "first: 0.00\n",
      "is: 0.27\n",
      "one: 0.51\n",
      "second: 0.00\n",
      "the: 0.27\n",
      "third: 0.51\n",
      "this: 0.27\n",
      "\n",
      "Document 4:\n",
      "and: 0.00\n",
      "document: 0.47\n",
      "first: 0.58\n",
      "is: 0.38\n",
      "one: 0.00\n",
      "second: 0.00\n",
      "the: 0.38\n",
      "third: 0.00\n",
      "this: 0.38\n",
      "\n"
     ]
    }
   ],
   "source": [
    "# Create a dictionary to store the TF-IDF values for each word in each document\n",
    "tfidf_dict = {}\n",
    "for i, document in enumerate(documents):\n",
    "    tfidf_dict[i] = {}\n",
    "    for j, word in enumerate(feature_names):\n",
    "        tfidf_dict[i][word] = tfidf_values[i][j]\n",
    "\n",
    "# Print the TF-IDF values for each word in each document\n",
    "for doc_id, tfidf_scores in tfidf_dict.items():\n",
    "    print(f\"Document {doc_id + 1}:\")\n",
    "    for word, score in tfidf_scores.items():\n",
    "        print(f\"{word}: {score:.2f}\")\n",
    "    print()\n"
   ]
  }
 ],
 "metadata": {
  "kernelspec": {
   "display_name": "base",
   "language": "python",
   "name": "python3"
  },
  "language_info": {
   "codemirror_mode": {
    "name": "ipython",
    "version": 3
   },
   "file_extension": ".py",
   "mimetype": "text/x-python",
   "name": "python",
   "nbconvert_exporter": "python",
   "pygments_lexer": "ipython3",
   "version": "3.10.9"
  }
 },
 "nbformat": 4,
 "nbformat_minor": 2
}
